{
 "cells": [
  {
   "cell_type": "code",
   "execution_count": 1,
   "metadata": {},
   "outputs": [
    {
     "name": "stdout",
     "output_type": "stream",
     "text": [
      "Enter the radius4\n",
      "50.272\n"
     ]
    }
   ],
   "source": [
    "#Calculating radius\n",
    "radius=float(input(\"Enter the radius\"))\n",
    "area=3.142*(radius)**2\n",
    "print(area)"
   ]
  },
  {
   "cell_type": "code",
   "execution_count": 4,
   "metadata": {},
   "outputs": [
    {
     "name": "stdout",
     "output_type": "stream",
     "text": [
      "Enter the number0\n",
      "zero\n"
     ]
    }
   ],
   "source": [
    "#Checking positive,negative or zero of a number\n",
    "number=float(input(\"Enter the number\"))\n",
    "if number>0:\n",
    "    print(\"Positive\")\n",
    "elif number<0:\n",
    "    print(\"Negative\")\n",
    "elif number==0:\n",
    "    print(\"zero\")\n"
   ]
  },
  {
   "cell_type": "code",
   "execution_count": 5,
   "metadata": {},
   "outputs": [
    {
     "name": "stdout",
     "output_type": "stream",
     "text": [
      "Enter the numerator2\n",
      "Enter the denominator4\n",
      "Not divisible\n"
     ]
    }
   ],
   "source": [
    "#Checking the divisibility of a number\n",
    "num=int(input(\"Enter the numerator\"))\n",
    "den=int(input(\"Enter the denominator\"))\n",
    "if num%den==0:\n",
    "    print(\"Divisible\")\n",
    "else:\n",
    "    print(\"Not divisible\")"
   ]
  },
  {
   "cell_type": "code",
   "execution_count": 9,
   "metadata": {},
   "outputs": [
    {
     "name": "stdout",
     "output_type": "stream",
     "text": [
      "Enter the number358\n",
      "Even\n"
     ]
    }
   ],
   "source": [
    "#Checking if a number is even or odd\n",
    "number=int(input(\"Enter the number\"))\n",
    "if number%2==0:\n",
    "    print(\"Even\")\n",
    "else:\n",
    "    print(\"Odd\")\n",
    "    "
   ]
  },
  {
   "cell_type": "code",
   "execution_count": null,
   "metadata": {},
   "outputs": [],
   "source": [
    "#Calculating volume of sphere\n",
    "radius=float(input(\"Enter the radius\"))\n",
    "Volume=(4/3)*3.142*(radius)**3\n",
    "print(Volume)\n"
   ]
  },
  {
   "cell_type": "code",
   "execution_count": 17,
   "metadata": {},
   "outputs": [
    {
     "name": "stdout",
     "output_type": "stream",
     "text": [
      "Enter the alphabetc\n",
      "Not vowel\n"
     ]
    }
   ],
   "source": [
    "#Checking if a vowel is entered or not\n",
    "vowel=['a','e','i','o','u']\n",
    "alpha=input(\"Enter the alphabet\")\n",
    "for b in vowel:\n",
    "    if alpha==b:\n",
    "        print('Vowel')\n",
    "    else:\n",
    "        print('Not vowel')\n",
    "    break\n",
    "        "
   ]
  },
  {
   "cell_type": "code",
   "execution_count": 18,
   "metadata": {},
   "outputs": [
    {
     "name": "stdout",
     "output_type": "stream",
     "text": [
      "Enter the height4\n",
      "Enter the base2\n",
      "4.0\n"
     ]
    }
   ],
   "source": [
    "#Calculating area of triangle\n",
    "a=int(input(\"Enter the height\"))\n",
    "b=int(input(\"Enter the base\"))\n",
    "area=(1/2)*(a)*(b)\n",
    "print(area)"
   ]
  },
  {
   "cell_type": "code",
   "execution_count": 20,
   "metadata": {},
   "outputs": [
    {
     "name": "stdout",
     "output_type": "stream",
     "text": [
      "Enter principal ammount10000\n",
      "Enter intrest rate0.1\n",
      "Enter the time5\n",
      "10050.0\n"
     ]
    }
   ],
   "source": [
    "#Calculating future value \n",
    "P=int(input('Enter principal ammount'))\n",
    "R=float(input('Enter intrest rate'))\n",
    "T=int(input('Enter the time'))\n",
    "I=P*T*(R/100)\n",
    "final=I+P\n",
    "print(final)"
   ]
  },
  {
   "cell_type": "code",
   "execution_count": 25,
   "metadata": {},
   "outputs": [
    {
     "name": "stdout",
     "output_type": "stream",
     "text": [
      "Enter x14 \n",
      "Enter x22\n",
      "Enter y15\n",
      "Enter y23\n",
      "2.8284271247461903\n"
     ]
    }
   ],
   "source": [
    "#Calculating Eucleadian distance\n",
    "import math\n",
    "x1=int(input(\"Enter x1\"))\n",
    "x2=int(input('Enter x2'))\n",
    "y1=int(input('Enter y1'))\n",
    "y2=int(input('Enter y2'))\n",
    "distance1=((x2-x1)**2)+((y2-y1)**2)\n",
    "distance=math.sqrt(distance1)\n",
    "print(distance)"
   ]
  },
  {
   "cell_type": "code",
   "execution_count": 1,
   "metadata": {},
   "outputs": [
    {
     "name": "stdout",
     "output_type": "stream",
     "text": [
      "Enter the height5\n",
      "height in centimeter is 152.5\n"
     ]
    }
   ],
   "source": [
    "#Converting feet into centimeter\n",
    "ft=float(input(\"Enter the height\"))\n",
    "cm=ft*30.5\n",
    "print('height in centimeter is',cm)"
   ]
  },
  {
   "cell_type": "code",
   "execution_count": 2,
   "metadata": {},
   "outputs": [
    {
     "name": "stdout",
     "output_type": "stream",
     "text": [
      "Enter your weight in kg5\n",
      "Enter your height4\n",
      "The BMI is  0.3125\n"
     ]
    }
   ],
   "source": [
    "#Calcuating BMI\n",
    "weight=float(input('Enter your weight in kg'))\n",
    "height=float(input('Enter your height'))\n",
    "height1=(height)**2\n",
    "bmi=(weight/height1)\n",
    "print('The BMI is ',bmi)"
   ]
  },
  {
   "cell_type": "code",
   "execution_count": 9,
   "metadata": {},
   "outputs": [
    {
     "name": "stdout",
     "output_type": "stream",
     "text": [
      "Enter the integer10\n",
      "sum is  55.0\n"
     ]
    }
   ],
   "source": [
    "#Sum of n positive integers\n",
    "n=int(input('Enter the integer'))\n",
    "total=(n/2)*(2+(n-1))\n",
    "print(\"sum is \",total)"
   ]
  },
  {
   "cell_type": "code",
   "execution_count": 1,
   "metadata": {},
   "outputs": [
    {
     "name": "stdout",
     "output_type": "stream",
     "text": [
      "Enter the sentencehello\n",
      "How many times to repeat?4\n",
      "hellohellohellohello\n"
     ]
    }
   ],
   "source": [
    "#Printing a string n times\n",
    "str=input('Enter the sentence')\n",
    "num=int(input('How many times to repeat?'))\n",
    "print(str*num)"
   ]
  },
  {
   "cell_type": "code",
   "execution_count": 4,
   "metadata": {},
   "outputs": [
    {
     "name": "stdout",
     "output_type": "stream",
     "text": [
      "Enter any decimal number: 5\n",
      "101"
     ]
    }
   ],
   "source": [
    "#Decimal to binary conversion\n",
    "def decimalToBinary(num):\n",
    "    if num > 1:\n",
    "        decimalToBinary(num//2)\n",
    "    print(num % 2, end='')\n",
    "\n",
    "number = int(input(\"Enter any decimal number: \"))\n",
    "decimalToBinary(number)"
   ]
  },
  {
   "cell_type": "code",
   "execution_count": 9,
   "metadata": {},
   "outputs": [
    {
     "name": "stdout",
     "output_type": "stream",
     "text": [
      "\n",
      "* \n",
      "* * \n",
      "* * * \n",
      "* * * * \n",
      "* * * * * \n",
      "* * * * \n",
      "* * * \n",
      "* * \n",
      "* \n"
     ]
    }
   ],
   "source": [
    "#Writing a pattern\n",
    "n=5;\n",
    "for i in range(n):\n",
    "    for j in range(i):\n",
    "        print ('* ', end=\"\")\n",
    "    print('')\n",
    "\n",
    "for i in range(n,0,-1):\n",
    "    for j in range(i):\n",
    "        print('* ', end=\"\")\n",
    "    print('')\n"
   ]
  },
  {
   "cell_type": "markdown",
   "metadata": {},
   "source": [
    "# Python Program to find Sum of Digits of a Number using While Loop\n",
    "\n",
    "Number = int(input(\"Please Enter any Number: \"))\n",
    "Sum = 0\n",
    "\n",
    "while(Number > 0):\n",
    "    Reminder = Number % 10\n",
    "    Sum = Sum + Reminder\n",
    "    Number = Number //10\n",
    "\n",
    "print(\"\\n Sum of the digits of Given Number = %d\" %Sum)\n"
   ]
  },
  {
   "cell_type": "code",
   "execution_count": null,
   "metadata": {},
   "outputs": [],
   "source": [
    "# Python Program to find Sum of Digits of a Number using While Loop\n",
    "\n",
    "Number = int(input(\"Please Enter any Number: \"))\n",
    "Sum = 0\n",
    "\n",
    "while(Number > 0):\n",
    "    Reminder = Number % 10\n",
    "    Sum = Sum + Reminder\n",
    "    Number = Number //10\n",
    "\n",
    "print(\"\\n Sum of the digits of Given Number = %d\" %Sum)"
   ]
  }
 ],
 "metadata": {
  "kernelspec": {
   "display_name": "Python 3",
   "language": "python",
   "name": "python3"
  },
  "language_info": {
   "codemirror_mode": {
    "name": "ipython",
    "version": 3
   },
   "file_extension": ".py",
   "mimetype": "text/x-python",
   "name": "python",
   "nbconvert_exporter": "python",
   "pygments_lexer": "ipython3",
   "version": "3.7.3"
  }
 },
 "nbformat": 4,
 "nbformat_minor": 2
}
