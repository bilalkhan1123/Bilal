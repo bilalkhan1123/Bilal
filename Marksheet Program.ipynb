{
 "cells": [
  {
   "cell_type": "code",
   "execution_count": 1,
   "metadata": {},
   "outputs": [
    {
     "name": "stdout",
     "output_type": "stream",
     "text": [
      "Enter the marks\n",
      "enter maths mark50\n"
     ]
    }
   ],
   "source": []
  },
  {
   "cell_type": "code",
   "execution_count": 14,
   "metadata": {},
   "outputs": [
    {
     "name": "stdout",
     "output_type": "stream",
     "text": [
      "Enter maths marks 88\n",
      "Enter physics marks 88\n",
      "Enter chem marks 88\n",
      "Enter history marks 88\n",
      "Enter bio marks 88\n",
      "b\n"
     ]
    }
   ],
   "source": [
    "maths=int(input('Enter maths marks'))\n",
    "physics=int(input('Enter physics marks'))\n",
    "chem=int(input('Enter chem marks'))\n",
    "history=int(input('Enter history marks'))\n",
    "bio=int(input('Enter bio marks'))          \n",
    "totalmarks=maths+physics+chem+history+bio\n",
    "percentage=(totalmarks/500)*100\n",
    "if percentage>90:\n",
    "    result='a'\n",
    "    print(result)\n",
    "elif percentage >80 and percentage <90:\n",
    "    result='b'\n",
    "    print(result)\n",
    "elif percentage >70 and percentage <80:\n",
    "    result='c'\n",
    "    print(result)\n",
    "else:\n",
    "    result='f'\n",
    "    print(result)\n",
    "with open(\"result.txt\", \"w\") as f:\n",
    "    f.write(result)\n",
    "\n",
    "\n",
    "    "
   ]
  }
 ],
 "metadata": {
  "kernelspec": {
   "display_name": "Python 3",
   "language": "python",
   "name": "python3"
  },
  "language_info": {
   "codemirror_mode": {
    "name": "ipython",
    "version": 3
   },
   "file_extension": ".py",
   "mimetype": "text/x-python",
   "name": "python",
   "nbconvert_exporter": "python",
   "pygments_lexer": "ipython3",
   "version": "3.7.3"
  }
 },
 "nbformat": 4,
 "nbformat_minor": 2
}
