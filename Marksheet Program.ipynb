{
 "cells": [
  {
   "cell_type": "code",
   "execution_count": 1,
   "metadata": {},
   "outputs": [
    {
     "name": "stdout",
     "output_type": "stream",
     "text": [
      "Enter the marks\n",
      "enter maths mark50\n"
     ]
    }
   ],
   "source": []
  },
  {
   "cell_type": "code",
   "execution_count": 11,
   "metadata": {},
   "outputs": [
    {
     "name": "stdout",
     "output_type": "stream",
     "text": [
      "C\n"
     ]
    }
   ],
   "source": [
    "subjects=['maths','physics','chemistry','urdu','add maths']\n",
    "marks=[80,70,75,88,56]\n",
    "totalmarks=sum(marks)\n",
    "percentage=(totalmarks/500)*100\n",
    "if percentage>90:\n",
    "    print('A')\n",
    "elif percentage >80 and percentage <90:\n",
    "    print('B')\n",
    "elif percentage >70 and percentage <80:\n",
    "    print('C')\n",
    "else:\n",
    "    print('Fail')\n",
    "    "
   ]
  }
 ],
 "metadata": {
  "kernelspec": {
   "display_name": "Python 3",
   "language": "python",
   "name": "python3"
  },
  "language_info": {
   "codemirror_mode": {
    "name": "ipython",
    "version": 3
   },
   "file_extension": ".py",
   "mimetype": "text/x-python",
   "name": "python",
   "nbconvert_exporter": "python",
   "pygments_lexer": "ipython3",
   "version": "3.7.3"
  }
 },
 "nbformat": 4,
 "nbformat_minor": 2
}
