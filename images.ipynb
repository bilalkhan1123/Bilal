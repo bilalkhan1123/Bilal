{
 "cells": [
  {
   "cell_type": "code",
   "execution_count": 15,
   "metadata": {},
   "outputs": [
    {
     "name": "stdout",
     "output_type": "stream",
     "text": [
      "(300, 168)\n",
      "(200, 200)\n",
      "(310, 162)\n",
      "(200, 200)\n",
      "(277, 182)\n",
      "(200, 200)\n",
      "(225, 225)\n",
      "(200, 200)\n",
      "[]\n"
     ]
    }
   ],
   "source": [
    "import glob\n",
    "import numpy as np\n",
    "import matplotlib.pyplot as plt\n",
    "from PIL import Image\n",
    "from matplotlib import image\n",
    "from matplotlib import pyplot\n",
    "import os\n",
    "# load all images in a directory\n",
    "loaded_images = list()\n",
    "for filename in listdir('images2'):\n",
    "    image = Image.open('images2/'+ filename)\n",
    "    new_image = image.resize((200, 200))\n",
    "    path2 = (\"resize\")\n",
    "    new_filename = filename.split('.jpg')[0] + 'new.png'\n",
    "    new_image.save(os.path.join(path2, new_filename))\n",
    "    print(image.size) # Output: (1200, 776)\n",
    "    print(new_image.size) # Output: (400, 400)\n",
    "filelist = glob.glob('resize/*.jpg')\n",
    "x = np.array([np.array(Image.open(fname)) for fname in filelist])\n",
    "print(x)\n",
    "    "
   ]
  }
 ],
 "metadata": {
  "kernelspec": {
   "display_name": "Python 3",
   "language": "python",
   "name": "python3"
  },
  "language_info": {
   "codemirror_mode": {
    "name": "ipython",
    "version": 3
   },
   "file_extension": ".py",
   "mimetype": "text/x-python",
   "name": "python",
   "nbconvert_exporter": "python",
   "pygments_lexer": "ipython3",
   "version": "3.7.3"
  }
 },
 "nbformat": 4,
 "nbformat_minor": 2
}
